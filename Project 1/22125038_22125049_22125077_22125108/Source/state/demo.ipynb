{
 "cells": [
  {
   "cell_type": "code",
   "execution_count": 1,
   "metadata": {},
   "outputs": [],
   "source": [
    "import state\n",
    "import numpy as np"
   ]
  },
  {
   "cell_type": "code",
   "execution_count": null,
   "metadata": {},
   "outputs": [],
   "source": []
  },
  {
   "cell_type": "code",
   "execution_count": 2,
   "metadata": {},
   "outputs": [],
   "source": [
    "class Problem:\n",
    "    class Action:\n",
    "        def __init__(self, name, direction, needPush):\n",
    "            self.name = name\n",
    "            self.direction = direction\n",
    "            self.needPush = needPush\n",
    "\n",
    "        def __str__(self):\n",
    "            return f\"Action: {self.name}, Direction: {self.direction}, NeedPush: {self.needPush}\"\n",
    "\n",
    "    def __init__(self, initialState: state.SearchState):\n",
    "        self.initialState = initialState\n",
    "\n",
    "        self.mapHeight = initialState.state.shape[0]\n",
    "        self.mapWidth = initialState.state.shape[1]\n",
    "        \n",
    "        self.switchPositions = []\n",
    "        for row in range(self.mapHeight):\n",
    "            for col in range(self.mapWidth):\n",
    "                if state.cellType(initialState.state[row,col]) in (state.SWITCH, state.AGENT_SWITCH, state.STONE_SWITCH):\n",
    "                    self.switchPositions.append((row,col))\n",
    "\n",
    "    def isGoal(self, s: state.SearchState):\n",
    "        for switch in self.switchPositions:\n",
    "            if state.cellType(s.state[switch]) != state.STONE_SWITCH:\n",
    "                return False\n",
    "        return True\n",
    "\n",
    "    def __valid_move(self, s: state.SearchState, direction):\n",
    "        def __valid_pos(pos):\n",
    "            return pos[0] in range(self.mapHeight) and pos[1] in range(self.mapWidth)\n",
    "\n",
    "        newPos = (s.agentPosition[0] + direction[0], s.agentPosition[1] + direction[1])\n",
    "\n",
    "        # Check if new position is within the board\n",
    "        if not __valid_pos(newPos):\n",
    "            return False, None\n",
    "        \n",
    "        # Check if new position is not wall\n",
    "        if state.cellType(s.state[newPos]) == state.WALL:\n",
    "            return False, None\n",
    "        \n",
    "        # Check if new position has stone and stone can be pushed\n",
    "        needPush = False\n",
    "        if state.cellType(s.state[newPos]) in (state.STONE, state.STONE_SWITCH): \n",
    "            newStonePos = (newPos[0] + direction[0], newPos[1] + direction[1])\n",
    "            if not __valid_pos(newStonePos) or state.cellType(s.state[newStonePos]) not in (state.EMPTY, state.SWITCH):\n",
    "                return False, None\n",
    "            needPush = True\n",
    "\n",
    "        return True, needPush\n",
    "\n",
    "    def actions(self, s: state.SearchState):\n",
    "        actions = []\n",
    "        for direction in state.agent_directions:\n",
    "            valid, needPush = self.__valid_move(s, state.agent_directions[direction])\n",
    "            if valid:\n",
    "                actions.append(self.Action(direction, state.agent_directions[direction], needPush))\n",
    "        return actions\n",
    "    \n",
    "    def result(self, s: state.SearchState, a: Action):\n",
    "        newState = s.state.copy()\n",
    "        newAgentPos = (s.agentPosition[0] + a.direction[0], s.agentPosition[1] + a.direction[1])\n",
    "\n",
    "        print(f\"Agent Position: {s.agentPosition}, New Agent Position: {newAgentPos}\")\n",
    "\n",
    "        cost = 1\n",
    "        if a.needPush:\n",
    "            stoneWeight = state.weight(newState[newAgentPos])\n",
    "            cost += stoneWeight\n",
    "            newStonePos = (newAgentPos[0] + a.direction[0], newAgentPos[1] + a.direction[1])\n",
    "            # newState[newStonePos] = state.STONE if state.cellType(newState[newStonePos]) == state.EMPTY else state.STONE_SWITCH\n",
    "            newState[newStonePos] = state.addStone(newState[newStonePos], stoneWeight)\n",
    "            newState[newAgentPos] = state.removeStone(newState[newAgentPos])\n",
    "\n",
    "        newState[newAgentPos] = state.addAgent(newState[newAgentPos])\n",
    "        newState[s.agentPosition] = state.removeAgent(newState[s.agentPosition])\n",
    "\n",
    "        return state.SearchState(newState), cost"
   ]
  },
  {
   "cell_type": "code",
   "execution_count": 3,
   "metadata": {},
   "outputs": [],
   "source": [
    "s = state.SearchState(\"/home/nhphucqt/Documents/MyLabs/intro2AI-group-projects/Project 1/22125038_22125049_22125077_22125108/Source/input-01.txt\")"
   ]
  },
  {
   "cell_type": "code",
   "execution_count": 4,
   "metadata": {},
   "outputs": [
    {
     "name": "stdout",
     "output_type": "stream",
     "text": [
      "[[  0   2   2   2   2   2   2   2   2   2   2   2]\n",
      " [  2   2   0   0   0   0   0   0   0   0   0   2]\n",
      " [  2   0   0   0   0   0   0   0   0   0   0   2]\n",
      " [  2   0  -1   0 -99   0   0   0   0   0   0   2]\n",
      " [  2   4   0   1   0   0   0   0   0   0   4   2]\n",
      " [  2   2   2   2   2   2   2   2   2   2   2   2]]\n",
      "(4, 3)\n"
     ]
    }
   ],
   "source": [
    "print(s.state)\n",
    "print(s.agentPosition)"
   ]
  },
  {
   "cell_type": "code",
   "execution_count": 5,
   "metadata": {},
   "outputs": [],
   "source": [
    "prob = Problem(s)"
   ]
  },
  {
   "cell_type": "code",
   "execution_count": 14,
   "metadata": {},
   "outputs": [
    {
     "name": "stdout",
     "output_type": "stream",
     "text": [
      "Action: u, Direction: (-1, 0), NeedPush: False\n",
      "Action: l, Direction: (0, -1), NeedPush: False\n",
      "Action: r, Direction: (0, 1), NeedPush: False\n"
     ]
    }
   ],
   "source": [
    "actions = prob.actions(s)\n",
    "for a in actions:\n",
    "    print(a)"
   ]
  },
  {
   "cell_type": "code",
   "execution_count": 44,
   "metadata": {},
   "outputs": [
    {
     "name": "stdout",
     "output_type": "stream",
     "text": [
      "Agent Position: (4, 3), New Agent Position: (4, 2)\n",
      "[[  0   2   2   2   2   2   2   2   2   2   2   2]\n",
      " [  2   2   0   0   0   0   0   0   0   0   0   2]\n",
      " [  2   0   0   0   0   0   0   0   0   0   0   2]\n",
      " [  2   0   0   0   0   0   0   0   0   0   0   2]\n",
      " [  2   9   1   0   0   0   0   0   0   0 107   2]\n",
      " [  2   2   2   2   2   2   2   2   2   2   2   2]]\n",
      "2\n",
      "Action: u, Direction: (-1, 0), NeedPush: False\n",
      "Action: r, Direction: (0, 1), NeedPush: False\n"
     ]
    }
   ],
   "source": [
    "newState, cost = prob.result(newState, actions[1])\n",
    "print(newState.state)\n",
    "print(cost)\n",
    "actions = prob.actions(newState)\n",
    "for a in actions:\n",
    "    print(a)"
   ]
  },
  {
   "cell_type": "code",
   "execution_count": 47,
   "metadata": {},
   "outputs": [
    {
     "data": {
      "text/plain": [
       "True"
      ]
     },
     "execution_count": 47,
     "metadata": {},
     "output_type": "execute_result"
    }
   ],
   "source": [
    "prob.isGoal(newState)"
   ]
  },
  {
   "cell_type": "code",
   "execution_count": 24,
   "metadata": {},
   "outputs": [
    {
     "name": "stdout",
     "output_type": "stream",
     "text": [
      "Action: u, Direction: (-1, 0), NeedPush: False\n",
      "Action: d, Direction: (1, 0), NeedPush: False\n",
      "Action: l, Direction: (0, -1), NeedPush: False\n",
      "Action: r, Direction: (0, 1), NeedPush: False\n"
     ]
    }
   ],
   "source": [
    "actions = prob.actions(newState)\n",
    "for a in actions:\n",
    "    print(a)"
   ]
  },
  {
   "cell_type": "code",
   "execution_count": 28,
   "metadata": {},
   "outputs": [],
   "source": [
    "class A:\n",
    "    def __init__(self, a):\n",
    "        self.a = a\n",
    "\n",
    "    def __hello(self):\n",
    "        print(self.a)\n",
    "\n",
    "    def _hi(self):\n",
    "        self.__hello()\n",
    "\n",
    "    def abc(self):\n",
    "        self._hi()"
   ]
  },
  {
   "cell_type": "code",
   "execution_count": 29,
   "metadata": {},
   "outputs": [],
   "source": [
    "a = A(3)"
   ]
  },
  {
   "cell_type": "code",
   "execution_count": 31,
   "metadata": {},
   "outputs": [
    {
     "name": "stdout",
     "output_type": "stream",
     "text": [
      "3\n",
      "3\n"
     ]
    }
   ],
   "source": [
    "a.abc()\n",
    "a._hi()"
   ]
  }
 ],
 "metadata": {
  "kernelspec": {
   "display_name": "ai",
   "language": "python",
   "name": "python3"
  },
  "language_info": {
   "codemirror_mode": {
    "name": "ipython",
    "version": 3
   },
   "file_extension": ".py",
   "mimetype": "text/x-python",
   "name": "python",
   "nbconvert_exporter": "python",
   "pygments_lexer": "ipython3",
   "version": "3.13.0"
  }
 },
 "nbformat": 4,
 "nbformat_minor": 2
}
